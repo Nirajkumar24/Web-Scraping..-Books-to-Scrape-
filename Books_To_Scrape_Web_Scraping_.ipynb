{
  "nbformat": 4,
  "nbformat_minor": 0,
  "metadata": {
    "colab": {
      "provenance": [],
      "toc_visible": true
    },
    "kernelspec": {
      "name": "python3",
      "display_name": "Python 3"
    },
    "language_info": {
      "name": "python"
    }
  },
  "cells": [
    {
      "cell_type": "code",
      "execution_count": 3,
      "metadata": {
        "id": "dSx2-hpBQiur"
      },
      "outputs": [],
      "source": [
        "import requests\n",
        "from bs4 import BeautifulSoup\n",
        "import pandas as pd"
      ]
    },
    {
      "cell_type": "code",
      "source": [
        "url=\"https://books.toscrape.com/\""
      ],
      "metadata": {
        "id": "7A9MwJzgQnM5"
      },
      "execution_count": 1,
      "outputs": []
    },
    {
      "cell_type": "code",
      "source": [
        "response = requests.get(url)\n",
        "if response.status_code == 200:\n",
        "    print(\"Accessed Successfully\")\n",
        "else:\n",
        "    print(f\"Failed to access... Status code: {response.status_code}\")\n",
        "    exit()"
      ],
      "metadata": {
        "colab": {
          "base_uri": "https://localhost:8080/"
        },
        "collapsed": true,
        "id": "Xy-av6abRBTq",
        "outputId": "d4d24ab8-1573-40d8-8866-904fa456eb93"
      },
      "execution_count": 5,
      "outputs": [
        {
          "output_type": "stream",
          "name": "stdout",
          "text": [
            "Accessed Successfully\n"
          ]
        }
      ]
    },
    {
      "cell_type": "code",
      "source": [
        "soup = BeautifulSoup(response.text, 'html.parser')\n"
      ],
      "metadata": {
        "id": "dtb8UVPARJeN"
      },
      "execution_count": 7,
      "outputs": []
    },
    {
      "cell_type": "code",
      "source": [
        "# 1. Extract and display the title of the webpage\n",
        "page_title = soup.title.string\n",
        "print(f\"page_title: {page_title}\")"
      ],
      "metadata": {
        "colab": {
          "base_uri": "https://localhost:8080/"
        },
        "collapsed": true,
        "id": "pyFMuDsPSRr4",
        "outputId": "2273c571-b313-4f24-a2b3-311c3ab6a633"
      },
      "execution_count": 10,
      "outputs": [
        {
          "output_type": "stream",
          "name": "stdout",
          "text": [
            "page_title: \n",
            "    All products | Books to Scrape - Sandbox\n",
            "\n"
          ]
        }
      ]
    },
    {
      "cell_type": "code",
      "source": [
        "# 2.Extracting all the book titles in the first page\n",
        "book_titles = soup.find_all('h3')\n",
        "for title in book_titles:\n",
        "    print(title.text)\n"
      ],
      "metadata": {
        "colab": {
          "base_uri": "https://localhost:8080/"
        },
        "collapsed": true,
        "id": "2ty3qZS9TRL3",
        "outputId": "8f46ae63-ba80-4b96-aa7a-192e7b32242b"
      },
      "execution_count": 11,
      "outputs": [
        {
          "output_type": "stream",
          "name": "stdout",
          "text": [
            "A Light in the ...\n",
            "Tipping the Velvet\n",
            "Soumission\n",
            "Sharp Objects\n",
            "Sapiens: A Brief History ...\n",
            "The Requiem Red\n",
            "The Dirty Little Secrets ...\n",
            "The Coming Woman: A ...\n",
            "The Boys in the ...\n",
            "The Black Maria\n",
            "Starving Hearts (Triangular Trade ...\n",
            "Shakespeare's Sonnets\n",
            "Set Me Free\n",
            "Scott Pilgrim's Precious Little ...\n",
            "Rip it Up and ...\n",
            "Our Band Could Be ...\n",
            "Olio\n",
            "Mesaerion: The Best Science ...\n",
            "Libertarianism for Beginners\n",
            "It's Only the Himalayas\n"
          ]
        }
      ]
    },
    {
      "cell_type": "code",
      "source": [
        "# 3.Extracting the price of books\n",
        "book_prices = soup.find_all('p', class_='price_color')\n",
        "for price in book_prices:\n",
        "    print(price.text)"
      ],
      "metadata": {
        "colab": {
          "base_uri": "https://localhost:8080/"
        },
        "collapsed": true,
        "id": "sZ90fsTQVZYM",
        "outputId": "46f02d56-0341-4e74-e9a1-cf2764f5afa8"
      },
      "execution_count": 12,
      "outputs": [
        {
          "output_type": "stream",
          "name": "stdout",
          "text": [
            "Â£51.77\n",
            "Â£53.74\n",
            "Â£50.10\n",
            "Â£47.82\n",
            "Â£54.23\n",
            "Â£22.65\n",
            "Â£33.34\n",
            "Â£17.93\n",
            "Â£22.60\n",
            "Â£52.15\n",
            "Â£13.99\n",
            "Â£20.66\n",
            "Â£17.46\n",
            "Â£52.29\n",
            "Â£35.02\n",
            "Â£57.25\n",
            "Â£23.88\n",
            "Â£37.59\n",
            "Â£51.33\n",
            "Â£45.17\n"
          ]
        }
      ]
    },
    {
      "cell_type": "code",
      "source": [
        "# 4.Extracting the images of the books\n",
        "book_images = soup.find_all('img')\n",
        "for image in book_images:\n",
        "    print(image['src'])"
      ],
      "metadata": {
        "colab": {
          "base_uri": "https://localhost:8080/"
        },
        "collapsed": true,
        "id": "wCSYXGDjWSTs",
        "outputId": "43c61909-6ace-46ab-9cfd-0b49bbf74ba2"
      },
      "execution_count": 13,
      "outputs": [
        {
          "output_type": "stream",
          "name": "stdout",
          "text": [
            "media/cache/2c/da/2cdad67c44b002e7ead0cc35693c0e8b.jpg\n",
            "media/cache/26/0c/260c6ae16bce31c8f8c95daddd9f4a1c.jpg\n",
            "media/cache/3e/ef/3eef99c9d9adef34639f510662022830.jpg\n",
            "media/cache/32/51/3251cf3a3412f53f339e42cac2134093.jpg\n",
            "media/cache/be/a5/bea5697f2534a2f86a3ef27b5a8c12a6.jpg\n",
            "media/cache/68/33/68339b4c9bc034267e1da611ab3b34f8.jpg\n",
            "media/cache/92/27/92274a95b7c251fea59a2b8a78275ab4.jpg\n",
            "media/cache/3d/54/3d54940e57e662c4dd1f3ff00c78cc64.jpg\n",
            "media/cache/66/88/66883b91f6804b2323c8369331cb7dd1.jpg\n",
            "media/cache/58/46/5846057e28022268153beff6d352b06c.jpg\n",
            "media/cache/be/f4/bef44da28c98f905a3ebec0b87be8530.jpg\n",
            "media/cache/10/48/1048f63d3b5061cd2f424d20b3f9b666.jpg\n",
            "media/cache/5b/88/5b88c52633f53cacf162c15f4f823153.jpg\n",
            "media/cache/94/b1/94b1b8b244bce9677c2f29ccc890d4d2.jpg\n",
            "media/cache/81/c4/81c4a973364e17d01f217e1188253d5e.jpg\n",
            "media/cache/54/60/54607fe8945897cdcced0044103b10b6.jpg\n",
            "media/cache/55/33/553310a7162dfbc2c6d19a84da0df9e1.jpg\n",
            "media/cache/09/a3/09a3aef48557576e1a85ba7efea8ecb7.jpg\n",
            "media/cache/0b/bc/0bbcd0a6f4bcd81ccb1049a52736406e.jpg\n",
            "media/cache/27/a5/27a53d0bb95bdd88288eaf66c9230d7e.jpg\n"
          ]
        }
      ]
    },
    {
      "cell_type": "code",
      "source": [],
      "metadata": {
        "id": "n_VZFIA0XDLw"
      },
      "execution_count": null,
      "outputs": []
    }
  ]
}